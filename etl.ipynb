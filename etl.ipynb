{
 "cells": [
  {
   "cell_type": "markdown",
   "metadata": {},
   "source": [
    "# ETL Processes\n",
    "Use this notebook to develop the ETL process for each of your tables before completing the `etl.py` file to load the whole datasets."
   ]
  },
  {
   "cell_type": "code",
   "execution_count": 1,
   "metadata": {},
   "outputs": [],
   "source": [
    "%load_ext autoreload\n",
    "%autoreload 2"
   ]
  },
  {
   "cell_type": "code",
   "execution_count": 2,
   "metadata": {},
   "outputs": [],
   "source": [
    "import os\n",
    "import glob\n",
    "import psycopg2\n",
    "import pandas as pd\n",
    "from sql_queries import *"
   ]
  },
  {
   "cell_type": "code",
   "execution_count": 3,
   "metadata": {},
   "outputs": [],
   "source": [
    "conn = psycopg2.connect(\"host=127.0.0.1 dbname=sparkifydb user=student password=student\")\n",
    "cur = conn.cursor()"
   ]
  },
  {
   "cell_type": "code",
   "execution_count": 4,
   "metadata": {},
   "outputs": [],
   "source": [
    "def get_files(filepath):\n",
    "    all_files = []\n",
    "    for root, dirs, files in os.walk(filepath):\n",
    "        files = glob.glob(os.path.join(root,'*.json'))\n",
    "        for f in files :\n",
    "            all_files.append(os.path.abspath(f))\n",
    "    \n",
    "    return all_files"
   ]
  },
  {
   "cell_type": "markdown",
   "metadata": {},
   "source": [
    "# Process `song_data`\n",
    "In this first part, you'll perform ETL on the first dataset, `song_data`, to create the `songs` and `artists` dimensional tables.\n",
    "\n",
    "Let's perform ETL on a single song file and load a single record into each table to start.\n",
    "- Use the `get_files` function provided above to get a list of all song JSON files in `data/song_data`\n",
    "- Select the first song in this list\n",
    "- Read the song file and view the data"
   ]
  },
  {
   "cell_type": "code",
   "execution_count": 5,
   "metadata": {},
   "outputs": [],
   "source": [
    "song_files = get_files('data/song_data')"
   ]
  },
  {
   "cell_type": "code",
   "execution_count": 6,
   "metadata": {},
   "outputs": [
    {
     "data": {
      "text/plain": [
       "'/home/gui/Projects/de-01-data-modeling-with-postgres/data/song_data/A/B/B/TRABBNP128F932546F.json'"
      ]
     },
     "execution_count": 6,
     "metadata": {},
     "output_type": "execute_result"
    }
   ],
   "source": [
    "filepath = song_files[0]\n",
    "filepath"
   ]
  },
  {
   "cell_type": "code",
   "execution_count": 7,
   "metadata": {},
   "outputs": [
    {
     "data": {
      "text/plain": [
       "num_songs                            1\n",
       "artist_id           AR62SOJ1187FB47BB5\n",
       "artist_latitude                   None\n",
       "artist_longitude                  None\n",
       "artist_location                       \n",
       "artist_name             Chase & Status\n",
       "song_id             SOGVQGJ12AB017F169\n",
       "title                        Ten Tonne\n",
       "duration                     337.68444\n",
       "year                              2005\n",
       "dtype: object"
      ]
     },
     "execution_count": 7,
     "metadata": {},
     "output_type": "execute_result"
    }
   ],
   "source": [
    "df = pd.read_json(filepath, typ='series')\n",
    "df"
   ]
  },
  {
   "cell_type": "markdown",
   "metadata": {},
   "source": [
    "## #1: `songs` Table\n",
    "#### Extract Data for Songs Table\n",
    "- Select columns for song ID, title, artist ID, year, and duration\n",
    "- Use `df.values` to select just the values from the dataframe\n",
    "- Index to select the first (only) record in the dataframe\n",
    "- Convert the array to a list and set it to `song_data`"
   ]
  },
  {
   "cell_type": "code",
   "execution_count": 8,
   "metadata": {},
   "outputs": [
    {
     "data": {
      "text/plain": [
       "array(['SOGVQGJ12AB017F169', 'Ten Tonne', 'AR62SOJ1187FB47BB5', 2005,\n",
       "       337.68444], dtype=object)"
      ]
     },
     "execution_count": 8,
     "metadata": {},
     "output_type": "execute_result"
    }
   ],
   "source": [
    "song_data = df[['song_id', 'title', 'artist_id', 'year', 'duration']].values\n",
    "song_data"
   ]
  },
  {
   "cell_type": "markdown",
   "metadata": {},
   "source": [
    "#### Insert Record into Song Table\n",
    "Implement the `song_table_insert` query in `sql_queries.py` and run the cell below to insert a record for this song into the `songs` table. Remember to run `create_tables.py` before running the cell below to ensure you've created/resetted the `songs` table in the sparkify database."
   ]
  },
  {
   "cell_type": "code",
   "execution_count": 9,
   "metadata": {},
   "outputs": [
    {
     "name": "stdout",
     "output_type": "stream",
     "text": [
      "song_table_insert = \n",
      "    INSERT INTO songs (\n",
      "        song_id,\n",
      "        title,\n",
      "        artist_id,\n",
      "        year,\n",
      "        duration\n",
      "    )\n",
      "    VALUES (%s, %s, %s, %s, %s)\n",
      "\n",
      "song_data = ['SOGVQGJ12AB017F169' 'Ten Tonne' 'AR62SOJ1187FB47BB5' 2005 337.68444]\n"
     ]
    }
   ],
   "source": [
    "print(f\"song_table_insert = {song_table_insert}\")\n",
    "print(f\"song_data = {song_data}\")\n",
    "cur.execute(song_table_insert, song_data)\n",
    "conn.commit()"
   ]
  },
  {
   "cell_type": "markdown",
   "metadata": {},
   "source": [
    "Run `test.ipynb` to see if you've successfully added a record to this table."
   ]
  },
  {
   "cell_type": "markdown",
   "metadata": {},
   "source": [
    "## #2: `artists` Table\n",
    "#### Extract Data for Artists Table\n",
    "- Select columns for artist ID, name, location, latitude, and longitude\n",
    "- Use `df.values` to select just the values from the dataframe\n",
    "- Index to select the first (only) record in the dataframe\n",
    "- Convert the array to a list and set it to `artist_data`"
   ]
  },
  {
   "cell_type": "code",
   "execution_count": 10,
   "metadata": {},
   "outputs": [
    {
     "data": {
      "text/plain": [
       "Index(['num_songs', 'artist_id', 'artist_latitude', 'artist_longitude',\n",
       "       'artist_location', 'artist_name', 'song_id', 'title', 'duration',\n",
       "       'year'],\n",
       "      dtype='object')"
      ]
     },
     "execution_count": 10,
     "metadata": {},
     "output_type": "execute_result"
    }
   ],
   "source": [
    "df.index"
   ]
  },
  {
   "cell_type": "code",
   "execution_count": 11,
   "metadata": {},
   "outputs": [
    {
     "data": {
      "text/plain": [
       "array(['AR62SOJ1187FB47BB5', 'Chase & Status', '', None, None],\n",
       "      dtype=object)"
      ]
     },
     "execution_count": 11,
     "metadata": {},
     "output_type": "execute_result"
    }
   ],
   "source": [
    "artist_data = df[['artist_id', 'artist_name', 'artist_location', 'artist_latitude', 'artist_longitude']].values\n",
    "artist_data"
   ]
  },
  {
   "cell_type": "markdown",
   "metadata": {},
   "source": [
    "#### Insert Record into Artist Table\n",
    "Implement the `artist_table_insert` query in `sql_queries.py` and run the cell below to insert a record for this song's artist into the `artists` table. Remember to run `create_tables.py` before running the cell below to ensure you've created/resetted the `artists` table in the sparkify database."
   ]
  },
  {
   "cell_type": "code",
   "execution_count": 12,
   "metadata": {},
   "outputs": [],
   "source": [
    "cur.execute(artist_table_insert, artist_data)\n",
    "conn.commit()"
   ]
  },
  {
   "cell_type": "markdown",
   "metadata": {},
   "source": [
    "Run `test.ipynb` to see if you've successfully added a record to this table."
   ]
  },
  {
   "cell_type": "markdown",
   "metadata": {},
   "source": [
    "# Process `log_data`\n",
    "In this part, you'll perform ETL on the second dataset, `log_data`, to create the `time` and `users` dimensional tables, as well as the `songplays` fact table.\n",
    "\n",
    "Let's perform ETL on a single log file and load a single record into each table.\n",
    "- Use the `get_files` function provided above to get a list of all log JSON files in `data/log_data`\n",
    "- Select the first log file in this list\n",
    "- Read the log file and view the data"
   ]
  },
  {
   "cell_type": "code",
   "execution_count": 13,
   "metadata": {},
   "outputs": [],
   "source": [
    "log_files = get_files('data/log_data/')"
   ]
  },
  {
   "cell_type": "code",
   "execution_count": 14,
   "metadata": {},
   "outputs": [],
   "source": [
    "filepath = log_files[0]"
   ]
  },
  {
   "cell_type": "code",
   "execution_count": 15,
   "metadata": {},
   "outputs": [
    {
     "name": "stdout",
     "output_type": "stream",
     "text": [
      "df.columns = Index(['artist', 'auth', 'firstName', 'gender', 'itemInSession', 'lastName',\n",
      "       'length', 'level', 'location', 'method', 'page', 'registration',\n",
      "       'sessionId', 'song', 'status', 'ts', 'userAgent', 'userId'],\n",
      "      dtype='object')\n"
     ]
    },
    {
     "data": {
      "text/html": [
       "<div>\n",
       "<style scoped>\n",
       "    .dataframe tbody tr th:only-of-type {\n",
       "        vertical-align: middle;\n",
       "    }\n",
       "\n",
       "    .dataframe tbody tr th {\n",
       "        vertical-align: top;\n",
       "    }\n",
       "\n",
       "    .dataframe thead th {\n",
       "        text-align: right;\n",
       "    }\n",
       "</style>\n",
       "<table border=\"1\" class=\"dataframe\">\n",
       "  <thead>\n",
       "    <tr style=\"text-align: right;\">\n",
       "      <th></th>\n",
       "      <th>artist</th>\n",
       "      <th>auth</th>\n",
       "      <th>firstName</th>\n",
       "      <th>gender</th>\n",
       "      <th>itemInSession</th>\n",
       "      <th>lastName</th>\n",
       "      <th>length</th>\n",
       "      <th>level</th>\n",
       "      <th>location</th>\n",
       "      <th>method</th>\n",
       "      <th>page</th>\n",
       "      <th>registration</th>\n",
       "      <th>sessionId</th>\n",
       "      <th>song</th>\n",
       "      <th>status</th>\n",
       "      <th>ts</th>\n",
       "      <th>userAgent</th>\n",
       "      <th>userId</th>\n",
       "    </tr>\n",
       "  </thead>\n",
       "  <tbody>\n",
       "    <tr>\n",
       "      <th>0</th>\n",
       "      <td>Hoobastank</td>\n",
       "      <td>Logged In</td>\n",
       "      <td>Cierra</td>\n",
       "      <td>F</td>\n",
       "      <td>0</td>\n",
       "      <td>Finley</td>\n",
       "      <td>241.39710</td>\n",
       "      <td>free</td>\n",
       "      <td>Richmond, VA</td>\n",
       "      <td>PUT</td>\n",
       "      <td>NextSong</td>\n",
       "      <td>1541013292796</td>\n",
       "      <td>132</td>\n",
       "      <td>Say The Same</td>\n",
       "      <td>200</td>\n",
       "      <td>1541808927796</td>\n",
       "      <td>\"Mozilla/5.0 (Macintosh; Intel Mac OS X 10_9_4...</td>\n",
       "      <td>96</td>\n",
       "    </tr>\n",
       "    <tr>\n",
       "      <th>1</th>\n",
       "      <td>Mark Knopfler</td>\n",
       "      <td>Logged In</td>\n",
       "      <td>Cierra</td>\n",
       "      <td>F</td>\n",
       "      <td>1</td>\n",
       "      <td>Finley</td>\n",
       "      <td>249.31220</td>\n",
       "      <td>free</td>\n",
       "      <td>Richmond, VA</td>\n",
       "      <td>PUT</td>\n",
       "      <td>NextSong</td>\n",
       "      <td>1541013292796</td>\n",
       "      <td>132</td>\n",
       "      <td>Why Aye Man</td>\n",
       "      <td>200</td>\n",
       "      <td>1541809168796</td>\n",
       "      <td>\"Mozilla/5.0 (Macintosh; Intel Mac OS X 10_9_4...</td>\n",
       "      <td>96</td>\n",
       "    </tr>\n",
       "    <tr>\n",
       "      <th>2</th>\n",
       "      <td>Mogwai</td>\n",
       "      <td>Logged In</td>\n",
       "      <td>Cierra</td>\n",
       "      <td>F</td>\n",
       "      <td>2</td>\n",
       "      <td>Finley</td>\n",
       "      <td>341.28934</td>\n",
       "      <td>free</td>\n",
       "      <td>Richmond, VA</td>\n",
       "      <td>PUT</td>\n",
       "      <td>NextSong</td>\n",
       "      <td>1541013292796</td>\n",
       "      <td>132</td>\n",
       "      <td>We're No Here</td>\n",
       "      <td>200</td>\n",
       "      <td>1541809417796</td>\n",
       "      <td>\"Mozilla/5.0 (Macintosh; Intel Mac OS X 10_9_4...</td>\n",
       "      <td>96</td>\n",
       "    </tr>\n",
       "    <tr>\n",
       "      <th>3</th>\n",
       "      <td>The Casualties</td>\n",
       "      <td>Logged In</td>\n",
       "      <td>Cierra</td>\n",
       "      <td>F</td>\n",
       "      <td>3</td>\n",
       "      <td>Finley</td>\n",
       "      <td>181.49832</td>\n",
       "      <td>free</td>\n",
       "      <td>Richmond, VA</td>\n",
       "      <td>PUT</td>\n",
       "      <td>NextSong</td>\n",
       "      <td>1541013292796</td>\n",
       "      <td>132</td>\n",
       "      <td>Punx Unite</td>\n",
       "      <td>200</td>\n",
       "      <td>1541809758796</td>\n",
       "      <td>\"Mozilla/5.0 (Macintosh; Intel Mac OS X 10_9_4...</td>\n",
       "      <td>96</td>\n",
       "    </tr>\n",
       "    <tr>\n",
       "      <th>4</th>\n",
       "      <td>None</td>\n",
       "      <td>Logged In</td>\n",
       "      <td>Cecilia</td>\n",
       "      <td>F</td>\n",
       "      <td>0</td>\n",
       "      <td>Owens</td>\n",
       "      <td>NaN</td>\n",
       "      <td>free</td>\n",
       "      <td>Atlanta-Sandy Springs-Roswell, GA</td>\n",
       "      <td>GET</td>\n",
       "      <td>Home</td>\n",
       "      <td>1541032432796</td>\n",
       "      <td>424</td>\n",
       "      <td>None</td>\n",
       "      <td>200</td>\n",
       "      <td>1541813635796</td>\n",
       "      <td>Mozilla/5.0 (Windows NT 6.1; WOW64; rv:32.0) G...</td>\n",
       "      <td>6</td>\n",
       "    </tr>\n",
       "  </tbody>\n",
       "</table>\n",
       "</div>"
      ],
      "text/plain": [
       "           artist       auth firstName gender  itemInSession lastName  \\\n",
       "0      Hoobastank  Logged In    Cierra      F              0   Finley   \n",
       "1   Mark Knopfler  Logged In    Cierra      F              1   Finley   \n",
       "2          Mogwai  Logged In    Cierra      F              2   Finley   \n",
       "3  The Casualties  Logged In    Cierra      F              3   Finley   \n",
       "4            None  Logged In   Cecilia      F              0    Owens   \n",
       "\n",
       "      length level                           location method      page  \\\n",
       "0  241.39710  free                       Richmond, VA    PUT  NextSong   \n",
       "1  249.31220  free                       Richmond, VA    PUT  NextSong   \n",
       "2  341.28934  free                       Richmond, VA    PUT  NextSong   \n",
       "3  181.49832  free                       Richmond, VA    PUT  NextSong   \n",
       "4        NaN  free  Atlanta-Sandy Springs-Roswell, GA    GET      Home   \n",
       "\n",
       "    registration  sessionId           song  status             ts  \\\n",
       "0  1541013292796        132   Say The Same     200  1541808927796   \n",
       "1  1541013292796        132    Why Aye Man     200  1541809168796   \n",
       "2  1541013292796        132  We're No Here     200  1541809417796   \n",
       "3  1541013292796        132     Punx Unite     200  1541809758796   \n",
       "4  1541032432796        424           None     200  1541813635796   \n",
       "\n",
       "                                           userAgent  userId  \n",
       "0  \"Mozilla/5.0 (Macintosh; Intel Mac OS X 10_9_4...      96  \n",
       "1  \"Mozilla/5.0 (Macintosh; Intel Mac OS X 10_9_4...      96  \n",
       "2  \"Mozilla/5.0 (Macintosh; Intel Mac OS X 10_9_4...      96  \n",
       "3  \"Mozilla/5.0 (Macintosh; Intel Mac OS X 10_9_4...      96  \n",
       "4  Mozilla/5.0 (Windows NT 6.1; WOW64; rv:32.0) G...       6  "
      ]
     },
     "execution_count": 15,
     "metadata": {},
     "output_type": "execute_result"
    }
   ],
   "source": [
    "df = pd.read_json(filepath, lines=True)\n",
    "print(f\"df.columns = {df.columns}\")\n",
    "df.head()"
   ]
  },
  {
   "cell_type": "markdown",
   "metadata": {},
   "source": [
    "## #3: `time` Table\n",
    "#### Extract Data for Time Table\n",
    "- Filter records by `NextSong` action\n",
    "- Convert the `ts` timestamp column to datetime\n",
    "  - Hint: the current timestamp is in milliseconds\n",
    "- Extract the timestamp, hour, day, week of year, month, year, and weekday from the `ts` column and set `time_data` to a list containing these values in order\n",
    "  - Hint: use pandas' [`dt` attribute](https://pandas.pydata.org/pandas-docs/stable/reference/api/pandas.Series.dt.html) to access easily datetimelike properties.\n",
    "- Specify labels for these columns and set to `column_labels`\n",
    "- Create a dataframe, `time_df,` containing the time data for this file by combining `column_labels` and `time_data` into a dictionary and converting this into a dataframe"
   ]
  },
  {
   "cell_type": "code",
   "execution_count": 16,
   "metadata": {},
   "outputs": [
    {
     "data": {
      "text/html": [
       "<div>\n",
       "<style scoped>\n",
       "    .dataframe tbody tr th:only-of-type {\n",
       "        vertical-align: middle;\n",
       "    }\n",
       "\n",
       "    .dataframe tbody tr th {\n",
       "        vertical-align: top;\n",
       "    }\n",
       "\n",
       "    .dataframe thead th {\n",
       "        text-align: right;\n",
       "    }\n",
       "</style>\n",
       "<table border=\"1\" class=\"dataframe\">\n",
       "  <thead>\n",
       "    <tr style=\"text-align: right;\">\n",
       "      <th></th>\n",
       "      <th>artist</th>\n",
       "      <th>auth</th>\n",
       "      <th>firstName</th>\n",
       "      <th>gender</th>\n",
       "      <th>itemInSession</th>\n",
       "      <th>lastName</th>\n",
       "      <th>length</th>\n",
       "      <th>level</th>\n",
       "      <th>location</th>\n",
       "      <th>method</th>\n",
       "      <th>page</th>\n",
       "      <th>registration</th>\n",
       "      <th>sessionId</th>\n",
       "      <th>song</th>\n",
       "      <th>status</th>\n",
       "      <th>ts</th>\n",
       "      <th>userAgent</th>\n",
       "      <th>userId</th>\n",
       "    </tr>\n",
       "  </thead>\n",
       "  <tbody>\n",
       "    <tr>\n",
       "      <th>0</th>\n",
       "      <td>Hoobastank</td>\n",
       "      <td>Logged In</td>\n",
       "      <td>Cierra</td>\n",
       "      <td>F</td>\n",
       "      <td>0</td>\n",
       "      <td>Finley</td>\n",
       "      <td>241.39710</td>\n",
       "      <td>free</td>\n",
       "      <td>Richmond, VA</td>\n",
       "      <td>PUT</td>\n",
       "      <td>NextSong</td>\n",
       "      <td>1541013292796</td>\n",
       "      <td>132</td>\n",
       "      <td>Say The Same</td>\n",
       "      <td>200</td>\n",
       "      <td>1541808927796</td>\n",
       "      <td>\"Mozilla/5.0 (Macintosh; Intel Mac OS X 10_9_4...</td>\n",
       "      <td>96</td>\n",
       "    </tr>\n",
       "    <tr>\n",
       "      <th>1</th>\n",
       "      <td>Mark Knopfler</td>\n",
       "      <td>Logged In</td>\n",
       "      <td>Cierra</td>\n",
       "      <td>F</td>\n",
       "      <td>1</td>\n",
       "      <td>Finley</td>\n",
       "      <td>249.31220</td>\n",
       "      <td>free</td>\n",
       "      <td>Richmond, VA</td>\n",
       "      <td>PUT</td>\n",
       "      <td>NextSong</td>\n",
       "      <td>1541013292796</td>\n",
       "      <td>132</td>\n",
       "      <td>Why Aye Man</td>\n",
       "      <td>200</td>\n",
       "      <td>1541809168796</td>\n",
       "      <td>\"Mozilla/5.0 (Macintosh; Intel Mac OS X 10_9_4...</td>\n",
       "      <td>96</td>\n",
       "    </tr>\n",
       "    <tr>\n",
       "      <th>2</th>\n",
       "      <td>Mogwai</td>\n",
       "      <td>Logged In</td>\n",
       "      <td>Cierra</td>\n",
       "      <td>F</td>\n",
       "      <td>2</td>\n",
       "      <td>Finley</td>\n",
       "      <td>341.28934</td>\n",
       "      <td>free</td>\n",
       "      <td>Richmond, VA</td>\n",
       "      <td>PUT</td>\n",
       "      <td>NextSong</td>\n",
       "      <td>1541013292796</td>\n",
       "      <td>132</td>\n",
       "      <td>We're No Here</td>\n",
       "      <td>200</td>\n",
       "      <td>1541809417796</td>\n",
       "      <td>\"Mozilla/5.0 (Macintosh; Intel Mac OS X 10_9_4...</td>\n",
       "      <td>96</td>\n",
       "    </tr>\n",
       "    <tr>\n",
       "      <th>3</th>\n",
       "      <td>The Casualties</td>\n",
       "      <td>Logged In</td>\n",
       "      <td>Cierra</td>\n",
       "      <td>F</td>\n",
       "      <td>3</td>\n",
       "      <td>Finley</td>\n",
       "      <td>181.49832</td>\n",
       "      <td>free</td>\n",
       "      <td>Richmond, VA</td>\n",
       "      <td>PUT</td>\n",
       "      <td>NextSong</td>\n",
       "      <td>1541013292796</td>\n",
       "      <td>132</td>\n",
       "      <td>Punx Unite</td>\n",
       "      <td>200</td>\n",
       "      <td>1541809758796</td>\n",
       "      <td>\"Mozilla/5.0 (Macintosh; Intel Mac OS X 10_9_4...</td>\n",
       "      <td>96</td>\n",
       "    </tr>\n",
       "    <tr>\n",
       "      <th>5</th>\n",
       "      <td>The Living End</td>\n",
       "      <td>Logged In</td>\n",
       "      <td>Ryan</td>\n",
       "      <td>M</td>\n",
       "      <td>0</td>\n",
       "      <td>Smith</td>\n",
       "      <td>188.62975</td>\n",
       "      <td>free</td>\n",
       "      <td>San Jose-Sunnyvale-Santa Clara, CA</td>\n",
       "      <td>PUT</td>\n",
       "      <td>NextSong</td>\n",
       "      <td>1541016707796</td>\n",
       "      <td>433</td>\n",
       "      <td>Roll On (Album Version)</td>\n",
       "      <td>200</td>\n",
       "      <td>1541822502796</td>\n",
       "      <td>\"Mozilla/5.0 (X11; Linux x86_64) AppleWebKit/5...</td>\n",
       "      <td>26</td>\n",
       "    </tr>\n",
       "  </tbody>\n",
       "</table>\n",
       "</div>"
      ],
      "text/plain": [
       "           artist       auth firstName gender  itemInSession lastName  \\\n",
       "0      Hoobastank  Logged In    Cierra      F              0   Finley   \n",
       "1   Mark Knopfler  Logged In    Cierra      F              1   Finley   \n",
       "2          Mogwai  Logged In    Cierra      F              2   Finley   \n",
       "3  The Casualties  Logged In    Cierra      F              3   Finley   \n",
       "5  The Living End  Logged In      Ryan      M              0    Smith   \n",
       "\n",
       "      length level                            location method      page  \\\n",
       "0  241.39710  free                        Richmond, VA    PUT  NextSong   \n",
       "1  249.31220  free                        Richmond, VA    PUT  NextSong   \n",
       "2  341.28934  free                        Richmond, VA    PUT  NextSong   \n",
       "3  181.49832  free                        Richmond, VA    PUT  NextSong   \n",
       "5  188.62975  free  San Jose-Sunnyvale-Santa Clara, CA    PUT  NextSong   \n",
       "\n",
       "    registration  sessionId                     song  status             ts  \\\n",
       "0  1541013292796        132             Say The Same     200  1541808927796   \n",
       "1  1541013292796        132              Why Aye Man     200  1541809168796   \n",
       "2  1541013292796        132            We're No Here     200  1541809417796   \n",
       "3  1541013292796        132               Punx Unite     200  1541809758796   \n",
       "5  1541016707796        433  Roll On (Album Version)     200  1541822502796   \n",
       "\n",
       "                                           userAgent  userId  \n",
       "0  \"Mozilla/5.0 (Macintosh; Intel Mac OS X 10_9_4...      96  \n",
       "1  \"Mozilla/5.0 (Macintosh; Intel Mac OS X 10_9_4...      96  \n",
       "2  \"Mozilla/5.0 (Macintosh; Intel Mac OS X 10_9_4...      96  \n",
       "3  \"Mozilla/5.0 (Macintosh; Intel Mac OS X 10_9_4...      96  \n",
       "5  \"Mozilla/5.0 (X11; Linux x86_64) AppleWebKit/5...      26  "
      ]
     },
     "execution_count": 16,
     "metadata": {},
     "output_type": "execute_result"
    }
   ],
   "source": [
    "df = df[df['page']=='NextSong']\n",
    "df.head()"
   ]
  },
  {
   "cell_type": "code",
   "execution_count": 17,
   "metadata": {},
   "outputs": [
    {
     "data": {
      "text/plain": [
       "0   1970-01-01 00:25:41.808927796\n",
       "1   1970-01-01 00:25:41.809168796\n",
       "2   1970-01-01 00:25:41.809417796\n",
       "3   1970-01-01 00:25:41.809758796\n",
       "5   1970-01-01 00:25:41.822502796\n",
       "Name: ts, dtype: datetime64[ns]"
      ]
     },
     "execution_count": 17,
     "metadata": {},
     "output_type": "execute_result"
    }
   ],
   "source": [
    "# Extract the timestamp, hour, day, week of year, month, year, and weekday \n",
    "# from the `ts` column and set `time_data` to a list containing these values in order\n",
    "\n",
    "\n",
    "t = pd.to_datetime(df['ts'])\n",
    "t.head()"
   ]
  },
  {
   "cell_type": "code",
   "execution_count": 18,
   "metadata": {},
   "outputs": [
    {
     "name": "stderr",
     "output_type": "stream",
     "text": [
      "/tmp/ipykernel_262013/1359514666.py:5: FutureWarning: Series.dt.weekofyear and Series.dt.week have been deprecated. Please use Series.dt.isocalendar().week instead.\n",
      "  t.dt.weekofyear.values,\n"
     ]
    }
   ],
   "source": [
    "time_data = (\n",
    "    t.values,\n",
    "    t.dt.hour.values,\n",
    "    t.dt.day.values,\n",
    "    t.dt.weekofyear.values,\n",
    "    t.dt.month.values,\n",
    "    t.dt.year.values,\n",
    "    t.dt.weekday.values\n",
    ")\n",
    "column_labels = (\n",
    "    'start_time',\n",
    "    'hour',\n",
    "    'day',\n",
    "    'week',\n",
    "    'month',\n",
    "    'year',\n",
    "    'weekday'\n",
    ")"
   ]
  },
  {
   "cell_type": "code",
   "execution_count": 19,
   "metadata": {},
   "outputs": [
    {
     "data": {
      "text/html": [
       "<div>\n",
       "<style scoped>\n",
       "    .dataframe tbody tr th:only-of-type {\n",
       "        vertical-align: middle;\n",
       "    }\n",
       "\n",
       "    .dataframe tbody tr th {\n",
       "        vertical-align: top;\n",
       "    }\n",
       "\n",
       "    .dataframe thead th {\n",
       "        text-align: right;\n",
       "    }\n",
       "</style>\n",
       "<table border=\"1\" class=\"dataframe\">\n",
       "  <thead>\n",
       "    <tr style=\"text-align: right;\">\n",
       "      <th></th>\n",
       "      <th>start_time</th>\n",
       "      <th>hour</th>\n",
       "      <th>day</th>\n",
       "      <th>week</th>\n",
       "      <th>month</th>\n",
       "      <th>year</th>\n",
       "      <th>weekday</th>\n",
       "    </tr>\n",
       "  </thead>\n",
       "  <tbody>\n",
       "    <tr>\n",
       "      <th>0</th>\n",
       "      <td>1970-01-01 00:25:41.808927796</td>\n",
       "      <td>0</td>\n",
       "      <td>1</td>\n",
       "      <td>1</td>\n",
       "      <td>1</td>\n",
       "      <td>1970</td>\n",
       "      <td>3</td>\n",
       "    </tr>\n",
       "    <tr>\n",
       "      <th>1</th>\n",
       "      <td>1970-01-01 00:25:41.809168796</td>\n",
       "      <td>0</td>\n",
       "      <td>1</td>\n",
       "      <td>1</td>\n",
       "      <td>1</td>\n",
       "      <td>1970</td>\n",
       "      <td>3</td>\n",
       "    </tr>\n",
       "    <tr>\n",
       "      <th>2</th>\n",
       "      <td>1970-01-01 00:25:41.809417796</td>\n",
       "      <td>0</td>\n",
       "      <td>1</td>\n",
       "      <td>1</td>\n",
       "      <td>1</td>\n",
       "      <td>1970</td>\n",
       "      <td>3</td>\n",
       "    </tr>\n",
       "    <tr>\n",
       "      <th>3</th>\n",
       "      <td>1970-01-01 00:25:41.809758796</td>\n",
       "      <td>0</td>\n",
       "      <td>1</td>\n",
       "      <td>1</td>\n",
       "      <td>1</td>\n",
       "      <td>1970</td>\n",
       "      <td>3</td>\n",
       "    </tr>\n",
       "    <tr>\n",
       "      <th>4</th>\n",
       "      <td>1970-01-01 00:25:41.822502796</td>\n",
       "      <td>0</td>\n",
       "      <td>1</td>\n",
       "      <td>1</td>\n",
       "      <td>1</td>\n",
       "      <td>1970</td>\n",
       "      <td>3</td>\n",
       "    </tr>\n",
       "  </tbody>\n",
       "</table>\n",
       "</div>"
      ],
      "text/plain": [
       "                     start_time hour day week month  year weekday\n",
       "0 1970-01-01 00:25:41.808927796    0   1    1     1  1970       3\n",
       "1 1970-01-01 00:25:41.809168796    0   1    1     1  1970       3\n",
       "2 1970-01-01 00:25:41.809417796    0   1    1     1  1970       3\n",
       "3 1970-01-01 00:25:41.809758796    0   1    1     1  1970       3\n",
       "4 1970-01-01 00:25:41.822502796    0   1    1     1  1970       3"
      ]
     },
     "execution_count": 19,
     "metadata": {},
     "output_type": "execute_result"
    }
   ],
   "source": [
    "time_df = pd.DataFrame(data=time_data).T\n",
    "time_df.columns=column_labels\n",
    "time_df.head()"
   ]
  },
  {
   "cell_type": "code",
   "execution_count": 20,
   "metadata": {},
   "outputs": [],
   "source": [
    "time_df = time_df.astype({\n",
    "    'hour': int,\n",
    "    'day': int,\n",
    "    'week': int,\n",
    "    'month': int,\n",
    "    'year': int,\n",
    "    'weekday': int,\n",
    "})"
   ]
  },
  {
   "cell_type": "markdown",
   "metadata": {},
   "source": [
    "#### Insert Records into Time Table\n",
    "Implement the `time_table_insert` query in `sql_queries.py` and run the cell below to insert records for the timestamps in this log file into the `time` table. Remember to run `create_tables.py` before running the cell below to ensure you've created/resetted the `time` table in the sparkify database."
   ]
  },
  {
   "cell_type": "code",
   "execution_count": 21,
   "metadata": {},
   "outputs": [],
   "source": [
    "# FIXME timestamp insert in postgres\n",
    "\n",
    "for i, row in time_df.iterrows():\n",
    "    cur.execute(time_table_insert, list(row))\n",
    "    conn.commit()"
   ]
  },
  {
   "cell_type": "markdown",
   "metadata": {},
   "source": [
    "Run `test.ipynb` to see if you've successfully added records to this table."
   ]
  },
  {
   "cell_type": "markdown",
   "metadata": {},
   "source": [
    "## #4: `users` Table\n",
    "#### Extract Data for Users Table\n",
    "- Select columns for user ID, first name, last name, gender and level and set to `user_df`"
   ]
  },
  {
   "cell_type": "code",
   "execution_count": 22,
   "metadata": {},
   "outputs": [
    {
     "name": "stderr",
     "output_type": "stream",
     "text": [
      "/tmp/ipykernel_262013/1065050003.py:2: SettingWithCopyWarning: \n",
      "A value is trying to be set on a copy of a slice from a DataFrame\n",
      "\n",
      "See the caveats in the documentation: https://pandas.pydata.org/pandas-docs/stable/user_guide/indexing.html#returning-a-view-versus-a-copy\n",
      "  user_df.drop_duplicates(inplace=True)\n"
     ]
    },
    {
     "data": {
      "text/html": [
       "<div>\n",
       "<style scoped>\n",
       "    .dataframe tbody tr th:only-of-type {\n",
       "        vertical-align: middle;\n",
       "    }\n",
       "\n",
       "    .dataframe tbody tr th {\n",
       "        vertical-align: top;\n",
       "    }\n",
       "\n",
       "    .dataframe thead th {\n",
       "        text-align: right;\n",
       "    }\n",
       "</style>\n",
       "<table border=\"1\" class=\"dataframe\">\n",
       "  <thead>\n",
       "    <tr style=\"text-align: right;\">\n",
       "      <th></th>\n",
       "      <th>userId</th>\n",
       "      <th>firstName</th>\n",
       "      <th>lastName</th>\n",
       "      <th>gender</th>\n",
       "      <th>level</th>\n",
       "    </tr>\n",
       "  </thead>\n",
       "  <tbody>\n",
       "    <tr>\n",
       "      <th>0</th>\n",
       "      <td>96</td>\n",
       "      <td>Cierra</td>\n",
       "      <td>Finley</td>\n",
       "      <td>F</td>\n",
       "      <td>free</td>\n",
       "    </tr>\n",
       "    <tr>\n",
       "      <th>5</th>\n",
       "      <td>26</td>\n",
       "      <td>Ryan</td>\n",
       "      <td>Smith</td>\n",
       "      <td>M</td>\n",
       "      <td>free</td>\n",
       "    </tr>\n",
       "    <tr>\n",
       "      <th>6</th>\n",
       "      <td>16</td>\n",
       "      <td>Rylan</td>\n",
       "      <td>George</td>\n",
       "      <td>M</td>\n",
       "      <td>free</td>\n",
       "    </tr>\n",
       "    <tr>\n",
       "      <th>8</th>\n",
       "      <td>44</td>\n",
       "      <td>Aleena</td>\n",
       "      <td>Kirby</td>\n",
       "      <td>F</td>\n",
       "      <td>paid</td>\n",
       "    </tr>\n",
       "    <tr>\n",
       "      <th>45</th>\n",
       "      <td>37</td>\n",
       "      <td>Jordan</td>\n",
       "      <td>Hicks</td>\n",
       "      <td>F</td>\n",
       "      <td>free</td>\n",
       "    </tr>\n",
       "  </tbody>\n",
       "</table>\n",
       "</div>"
      ],
      "text/plain": [
       "    userId firstName lastName gender level\n",
       "0       96    Cierra   Finley      F  free\n",
       "5       26      Ryan    Smith      M  free\n",
       "6       16     Rylan   George      M  free\n",
       "8       44    Aleena    Kirby      F  paid\n",
       "45      37    Jordan    Hicks      F  free"
      ]
     },
     "execution_count": 22,
     "metadata": {},
     "output_type": "execute_result"
    }
   ],
   "source": [
    "user_df = df[['userId', 'firstName', 'lastName', 'gender', 'level']]\n",
    "user_df.drop_duplicates(inplace=True)\n",
    "user_df.head()\n",
    "\n",
    "#TODO drop duplicates?"
   ]
  },
  {
   "cell_type": "markdown",
   "metadata": {},
   "source": [
    "#### Insert Records into Users Table\n",
    "Implement the `user_table_insert` query in `sql_queries.py` and run the cell below to insert records for the users in this log file into the `users` table. Remember to run `create_tables.py` before running the cell below to ensure you've created/resetted the `users` table in the sparkify database."
   ]
  },
  {
   "cell_type": "code",
   "execution_count": 23,
   "metadata": {},
   "outputs": [],
   "source": [
    "for i, row in user_df.iterrows():\n",
    "    cur.execute(user_table_insert, row)\n",
    "    conn.commit()"
   ]
  },
  {
   "cell_type": "markdown",
   "metadata": {},
   "source": [
    "Run `test.ipynb` to see if you've successfully added records to this table."
   ]
  },
  {
   "cell_type": "markdown",
   "metadata": {},
   "source": [
    "## #5: `songplays` Table\n",
    "#### Extract Data and Songplays Table\n",
    "This one is a little more complicated since information from the songs table, artists table, and original log file are all needed for the `songplays` table. Since the log file does not specify an ID for either the song or the artist, you'll need to get the song ID and artist ID by querying the songs and artists tables to find matches based on song title, artist name, and song duration time.\n",
    "- Implement the `song_select` query in `sql_queries.py` to find the song ID and artist ID based on the title, artist name, and duration of a song.\n",
    "- Select the timestamp, user ID, level, song ID, artist ID, session ID, location, and user agent and set to `songplay_data`\n",
    "\n",
    "#### Insert Records into Songplays Table\n",
    "- Implement the `songplay_table_insert` query and run the cell below to insert records for the songplay actions in this log file into the `songplays` table. Remember to run `create_tables.py` before running the cell below to ensure you've created/resetted the `songplays` table in the sparkify database."
   ]
  },
  {
   "cell_type": "code",
   "execution_count": 24,
   "metadata": {},
   "outputs": [
    {
     "data": {
      "text/html": [
       "<div>\n",
       "<style scoped>\n",
       "    .dataframe tbody tr th:only-of-type {\n",
       "        vertical-align: middle;\n",
       "    }\n",
       "\n",
       "    .dataframe tbody tr th {\n",
       "        vertical-align: top;\n",
       "    }\n",
       "\n",
       "    .dataframe thead th {\n",
       "        text-align: right;\n",
       "    }\n",
       "</style>\n",
       "<table border=\"1\" class=\"dataframe\">\n",
       "  <thead>\n",
       "    <tr style=\"text-align: right;\">\n",
       "      <th></th>\n",
       "      <th>ts</th>\n",
       "      <th>userId</th>\n",
       "      <th>level</th>\n",
       "      <th>song</th>\n",
       "      <th>artist</th>\n",
       "      <th>length</th>\n",
       "      <th>sessionId</th>\n",
       "      <th>location</th>\n",
       "      <th>userAgent</th>\n",
       "    </tr>\n",
       "  </thead>\n",
       "  <tbody>\n",
       "    <tr>\n",
       "      <th>0</th>\n",
       "      <td>1541808927796</td>\n",
       "      <td>96</td>\n",
       "      <td>free</td>\n",
       "      <td>Say The Same</td>\n",
       "      <td>Hoobastank</td>\n",
       "      <td>241.39710</td>\n",
       "      <td>132</td>\n",
       "      <td>Richmond, VA</td>\n",
       "      <td>\"Mozilla/5.0 (Macintosh; Intel Mac OS X 10_9_4...</td>\n",
       "    </tr>\n",
       "    <tr>\n",
       "      <th>1</th>\n",
       "      <td>1541809168796</td>\n",
       "      <td>96</td>\n",
       "      <td>free</td>\n",
       "      <td>Why Aye Man</td>\n",
       "      <td>Mark Knopfler</td>\n",
       "      <td>249.31220</td>\n",
       "      <td>132</td>\n",
       "      <td>Richmond, VA</td>\n",
       "      <td>\"Mozilla/5.0 (Macintosh; Intel Mac OS X 10_9_4...</td>\n",
       "    </tr>\n",
       "    <tr>\n",
       "      <th>2</th>\n",
       "      <td>1541809417796</td>\n",
       "      <td>96</td>\n",
       "      <td>free</td>\n",
       "      <td>We're No Here</td>\n",
       "      <td>Mogwai</td>\n",
       "      <td>341.28934</td>\n",
       "      <td>132</td>\n",
       "      <td>Richmond, VA</td>\n",
       "      <td>\"Mozilla/5.0 (Macintosh; Intel Mac OS X 10_9_4...</td>\n",
       "    </tr>\n",
       "    <tr>\n",
       "      <th>3</th>\n",
       "      <td>1541809758796</td>\n",
       "      <td>96</td>\n",
       "      <td>free</td>\n",
       "      <td>Punx Unite</td>\n",
       "      <td>The Casualties</td>\n",
       "      <td>181.49832</td>\n",
       "      <td>132</td>\n",
       "      <td>Richmond, VA</td>\n",
       "      <td>\"Mozilla/5.0 (Macintosh; Intel Mac OS X 10_9_4...</td>\n",
       "    </tr>\n",
       "    <tr>\n",
       "      <th>5</th>\n",
       "      <td>1541822502796</td>\n",
       "      <td>26</td>\n",
       "      <td>free</td>\n",
       "      <td>Roll On (Album Version)</td>\n",
       "      <td>The Living End</td>\n",
       "      <td>188.62975</td>\n",
       "      <td>433</td>\n",
       "      <td>San Jose-Sunnyvale-Santa Clara, CA</td>\n",
       "      <td>\"Mozilla/5.0 (X11; Linux x86_64) AppleWebKit/5...</td>\n",
       "    </tr>\n",
       "  </tbody>\n",
       "</table>\n",
       "</div>"
      ],
      "text/plain": [
       "              ts  userId level                     song          artist  \\\n",
       "0  1541808927796      96  free             Say The Same      Hoobastank   \n",
       "1  1541809168796      96  free              Why Aye Man   Mark Knopfler   \n",
       "2  1541809417796      96  free            We're No Here          Mogwai   \n",
       "3  1541809758796      96  free               Punx Unite  The Casualties   \n",
       "5  1541822502796      26  free  Roll On (Album Version)  The Living End   \n",
       "\n",
       "      length  sessionId                            location  \\\n",
       "0  241.39710        132                        Richmond, VA   \n",
       "1  249.31220        132                        Richmond, VA   \n",
       "2  341.28934        132                        Richmond, VA   \n",
       "3  181.49832        132                        Richmond, VA   \n",
       "5  188.62975        433  San Jose-Sunnyvale-Santa Clara, CA   \n",
       "\n",
       "                                           userAgent  \n",
       "0  \"Mozilla/5.0 (Macintosh; Intel Mac OS X 10_9_4...  \n",
       "1  \"Mozilla/5.0 (Macintosh; Intel Mac OS X 10_9_4...  \n",
       "2  \"Mozilla/5.0 (Macintosh; Intel Mac OS X 10_9_4...  \n",
       "3  \"Mozilla/5.0 (Macintosh; Intel Mac OS X 10_9_4...  \n",
       "5  \"Mozilla/5.0 (X11; Linux x86_64) AppleWebKit/5...  "
      ]
     },
     "execution_count": 24,
     "metadata": {},
     "output_type": "execute_result"
    }
   ],
   "source": [
    "df[[\n",
    "    'ts',\n",
    "    'userId',\n",
    "    'level',\n",
    "    'song',\n",
    "    'artist',\n",
    "    'length',\n",
    "    'sessionId',\n",
    "    'location',\n",
    "    'userAgent',\n",
    "\n",
    "]].head()\n"
   ]
  },
  {
   "cell_type": "code",
   "execution_count": 25,
   "metadata": {},
   "outputs": [
    {
     "name": "stdout",
     "output_type": "stream",
     "text": [
      "cur.query = b\"\\n    SELECT song_id, songs.artist_id FROM songs\\n    JOIN artists ON songs.artist_id = artists.artist_id\\n    WHERE title='Say The Same' AND artist_name='Hoobastank' AND duration=241.3971;\\n\"\n",
      "cur.query = b\"\\n    SELECT song_id, songs.artist_id FROM songs\\n    JOIN artists ON songs.artist_id = artists.artist_id\\n    WHERE title='Why Aye Man' AND artist_name='Mark Knopfler' AND duration=249.3122;\\n\"\n",
      "cur.query = b\"\\n    SELECT song_id, songs.artist_id FROM songs\\n    JOIN artists ON songs.artist_id = artists.artist_id\\n    WHERE title='We''re No Here' AND artist_name='Mogwai' AND duration=341.28934;\\n\"\n",
      "cur.query = b\"\\n    SELECT song_id, songs.artist_id FROM songs\\n    JOIN artists ON songs.artist_id = artists.artist_id\\n    WHERE title='Punx Unite' AND artist_name='The Casualties' AND duration=181.49832;\\n\"\n",
      "cur.query = b\"\\n    SELECT song_id, songs.artist_id FROM songs\\n    JOIN artists ON songs.artist_id = artists.artist_id\\n    WHERE title='Roll On (Album Version)' AND artist_name='The Living End' AND duration=188.62975;\\n\"\n",
      "cur.query = b\"\\n    SELECT song_id, songs.artist_id FROM songs\\n    JOIN artists ON songs.artist_id = artists.artist_id\\n    WHERE title='I Need A Dollar' AND artist_name='Aloe Blacc' AND duration=244.1922;\\n\"\n",
      "cur.query = b\"\\n    SELECT song_id, songs.artist_id FROM songs\\n    JOIN artists ON songs.artist_id = artists.artist_id\\n    WHERE title='Helpless' AND artist_name='Faith No More' AND duration=326.50404;\\n\"\n",
      "cur.query = b\"\\n    SELECT song_id, songs.artist_id FROM songs\\n    JOIN artists ON songs.artist_id = artists.artist_id\\n    WHERE title='Sunshower (Great Expectations Soundtrack)' AND artist_name='Chris Cornell' AND duration=353.69751;\\n\"\n",
      "cur.query = b\"\\n    SELECT song_id, songs.artist_id FROM songs\\n    JOIN artists ON songs.artist_id = artists.artist_id\\n    WHERE title='My Name Is Jonas' AND artist_name='Weezer' AND duration=203.93751;\\n\"\n",
      "cur.query = b\"\\n    SELECT song_id, songs.artist_id FROM songs\\n    JOIN artists ON songs.artist_id = artists.artist_id\\n    WHERE title='Valley Of The Queens' AND artist_name='Stream of Passion feat. Ayreon' AND duration=257.56689;\\n\"\n",
      "cur.query = b\"\\n    SELECT song_id, songs.artist_id FROM songs\\n    JOIN artists ON songs.artist_id = artists.artist_id\\n    WHERE title='Shining Down [feat. Matthew Santos] (Amended Album Version)' AND artist_name='Lupe Fiasco' AND duration=273.94567;\\n\"\n",
      "cur.query = b\"\\n    SELECT song_id, songs.artist_id FROM songs\\n    JOIN artists ON songs.artist_id = artists.artist_id\\n    WHERE title='Runnin'' Down A Dream' AND artist_name='Tom Petty' AND duration=263.23546;\\n\"\n",
      "cur.query = b\"\\n    SELECT song_id, songs.artist_id FROM songs\\n    JOIN artists ON songs.artist_id = artists.artist_id\\n    WHERE title='When You Were Young' AND artist_name='The Killers' AND duration=220.89098;\\n\"\n",
      "cur.query = b\"\\n    SELECT song_id, songs.artist_id FROM songs\\n    JOIN artists ON songs.artist_id = artists.artist_id\\n    WHERE title='I''m Her Slave (Album)' AND artist_name='Afghan Whigs' AND duration=179.40853;\\n\"\n",
      "cur.query = b\"\\n    SELECT song_id, songs.artist_id FROM songs\\n    JOIN artists ON songs.artist_id = artists.artist_id\\n    WHERE title='Let''s Make Love And Listen To Death From Above [Dan Carey Mix] (remastered album version)' AND artist_name='CSS' AND duration=213.75955;\\n\"\n",
      "cur.query = b\"\\n    SELECT song_id, songs.artist_id FROM songs\\n    JOIN artists ON songs.artist_id = artists.artist_id\\n    WHERE title='History' AND artist_name='Mos Def / Talib Kweli' AND duration=141.37424;\\n\"\n",
      "cur.query = b\"\\n    SELECT song_id, songs.artist_id FROM songs\\n    JOIN artists ON songs.artist_id = artists.artist_id\\n    WHERE title='How It Was Supposed To Be' AND artist_name='Ryan Leslie' AND duration=203.96363;\\n\"\n",
      "cur.query = b\"\\n    SELECT song_id, songs.artist_id FROM songs\\n    JOIN artists ON songs.artist_id = artists.artist_id\\n    WHERE title='Get Together With The Lord (The Best Of Mark Lowry - Volume 2 Version)' AND artist_name='Mark Lowry' AND duration=168.28036;\\n\"\n",
      "cur.query = b\"\\n    SELECT song_id, songs.artist_id FROM songs\\n    JOIN artists ON songs.artist_id = artists.artist_id\\n    WHERE title='Nantes' AND artist_name='Beirut' AND duration=230.19057;\\n\"\n",
      "cur.query = b\"\\n    SELECT song_id, songs.artist_id FROM songs\\n    JOIN artists ON songs.artist_id = artists.artist_id\\n    WHERE title='THE DARK SIDE OF THE FROG' AND artist_name='MODESELEKTOR FEAT. PUPPETMASTAZ' AND duration=52.79302;\\n\"\n",
      "cur.query = b\"\\n    SELECT song_id, songs.artist_id FROM songs\\n    JOIN artists ON songs.artist_id = artists.artist_id\\n    WHERE title='Make Her Say' AND artist_name='Kid Cudi / Kanye West / Common' AND duration=237.76608;\\n\"\n",
      "cur.query = b\"\\n    SELECT song_id, songs.artist_id FROM songs\\n    JOIN artists ON songs.artist_id = artists.artist_id\\n    WHERE title='Breakout A-Town' AND artist_name='Julie Ruin' AND duration=142.47138;\\n\"\n",
      "cur.query = b\"\\n    SELECT song_id, songs.artist_id FROM songs\\n    JOIN artists ON songs.artist_id = artists.artist_id\\n    WHERE title='The Bell' AND artist_name='Sons And Daughters' AND duration=165.90322;\\n\"\n",
      "cur.query = b\"\\n    SELECT song_id, songs.artist_id FROM songs\\n    JOIN artists ON songs.artist_id = artists.artist_id\\n    WHERE title='Mock The Music' AND artist_name='Children 18:3' AND duration=178.52036;\\n\"\n",
      "cur.query = b\"\\n    SELECT song_id, songs.artist_id FROM songs\\n    JOIN artists ON songs.artist_id = artists.artist_id\\n    WHERE title='Miss Me Baby' AND artist_name='Chris Cagle' AND duration=232.85506;\\n\"\n",
      "cur.query = b\"\\n    SELECT song_id, songs.artist_id FROM songs\\n    JOIN artists ON songs.artist_id = artists.artist_id\\n    WHERE title='Missing You' AND artist_name='John Waite' AND duration=269.76608;\\n\"\n",
      "cur.query = b\"\\n    SELECT song_id, songs.artist_id FROM songs\\n    JOIN artists ON songs.artist_id = artists.artist_id\\n    WHERE title='Walk On Water' AND artist_name='Basshunter' AND duration=223.32036;\\n\"\n",
      "cur.query = b\"\\n    SELECT song_id, songs.artist_id FROM songs\\n    JOIN artists ON songs.artist_id = artists.artist_id\\n    WHERE title='Hello Brooklyn 2.0' AND artist_name='Jay-Z / Lil Wayne' AND duration=236.01587;\\n\"\n",
      "cur.query = b\"\\n    SELECT song_id, songs.artist_id FROM songs\\n    JOIN artists ON songs.artist_id = artists.artist_id\\n    WHERE title='It''s Beginning To Get To Me' AND artist_name='Snow Patrol' AND duration=273.6322;\\n\"\n",
      "cur.query = b\"\\n    SELECT song_id, songs.artist_id FROM songs\\n    JOIN artists ON songs.artist_id = artists.artist_id\\n    WHERE title='Autumn Leaves' AND artist_name='Coldcut' AND duration=203.07546;\\n\"\n",
      "cur.query = b\"\\n    SELECT song_id, songs.artist_id FROM songs\\n    JOIN artists ON songs.artist_id = artists.artist_id\\n    WHERE title='Plastic Loveless Letter' AND artist_name='Magic Dirt' AND duration=251.79383;\\n\"\n",
      "cur.query = b\"\\n    SELECT song_id, songs.artist_id FROM songs\\n    JOIN artists ON songs.artist_id = artists.artist_id\\n    WHERE title='Sinisten t\\xc3\\x83\\xc2\\x83\\xc3\\x82\\xc2\\xa4htien alla' AND artist_name='J. Karjalainen & Mustat Lasit' AND duration=336.74404;\\n\"\n",
      "cur.query = b\"\\n    SELECT song_id, songs.artist_id FROM songs\\n    JOIN artists ON songs.artist_id = artists.artist_id\\n    WHERE title='Secrets' AND artist_name='OneRepublic' AND duration=224.67873;\\n\"\n",
      "cur.query = b\"\\n    SELECT song_id, songs.artist_id FROM songs\\n    JOIN artists ON songs.artist_id = artists.artist_id\\n    WHERE title='Come As You Are' AND artist_name='Nirvana' AND duration=219.08853;\\n\"\n",
      "cur.query = b\"\\n    SELECT song_id, songs.artist_id FROM songs\\n    JOIN artists ON songs.artist_id = artists.artist_id\\n    WHERE title='It''s Time I Go (Jazz)' AND artist_name='Joyce Cooling' AND duration=248.11057;\\n\"\n",
      "cur.query = b\"\\n    SELECT song_id, songs.artist_id FROM songs\\n    JOIN artists ON songs.artist_id = artists.artist_id\\n    WHERE title='Unite (2009 Digital Remaster)' AND artist_name='Beastie Boys' AND duration=211.722;\\n\"\n",
      "cur.query = b\"\\n    SELECT song_id, songs.artist_id FROM songs\\n    JOIN artists ON songs.artist_id = artists.artist_id\\n    WHERE title='Yeah!' AND artist_name='Usher Featuring Lil'' Jon & Ludacris' AND duration=250.38322;\\n\"\n",
      "cur.query = b\"\\n    SELECT song_id, songs.artist_id FROM songs\\n    JOIN artists ON songs.artist_id = artists.artist_id\\n    WHERE title='Grillz' AND artist_name='Nelly / Paul Wall / Ali & Gipp' AND duration=272.50893;\\n\"\n",
      "cur.query = b\"\\n    SELECT song_id, songs.artist_id FROM songs\\n    JOIN artists ON songs.artist_id = artists.artist_id\\n    WHERE title='The Running Man' AND artist_name='The Audition' AND duration=207.20281;\\n\"\n",
      "cur.query = b\"\\n    SELECT song_id, songs.artist_id FROM songs\\n    JOIN artists ON songs.artist_id = artists.artist_id\\n    WHERE title='Truly Madly Deeply' AND artist_name='Savage Garden' AND duration=277.26322;\\n\"\n",
      "cur.query = b\"\\n    SELECT song_id, songs.artist_id FROM songs\\n    JOIN artists ON songs.artist_id = artists.artist_id\\n    WHERE title='Festival Song' AND artist_name='Adam Green' AND duration=141.00853;\\n\"\n",
      "cur.query = b\"\\n    SELECT song_id, songs.artist_id FROM songs\\n    JOIN artists ON songs.artist_id = artists.artist_id\\n    WHERE title='Square One (Album Version)' AND artist_name='Tom Petty' AND duration=204.82567;\\n\"\n",
      "cur.query = b\"\\n    SELECT song_id, songs.artist_id FROM songs\\n    JOIN artists ON songs.artist_id = artists.artist_id\\n    WHERE title='Supermassive Black Hole (Album Version)' AND artist_name='Muse' AND duration=209.34485;\\n\"\n",
      "cur.query = b\"\\n    SELECT song_id, songs.artist_id FROM songs\\n    JOIN artists ON songs.artist_id = artists.artist_id\\n    WHERE title='(iii)' AND artist_name='The Gerbils' AND duration=27.01016;\\n\"\n",
      "cur.query = b\"\\n    SELECT song_id, songs.artist_id FROM songs\\n    JOIN artists ON songs.artist_id = artists.artist_id\\n    WHERE title='Dancing In Heaven (2006 Remastered LP Version)' AND artist_name='Robert Plant' AND duration=265.66485;\\n\"\n",
      "cur.query = b\"\\n    SELECT song_id, songs.artist_id FROM songs\\n    JOIN artists ON songs.artist_id = artists.artist_id\\n    WHERE title='Welcome Home (Sanitarium)' AND artist_name='Metallica' AND duration=387.02975;\\n\"\n",
      "cur.query = b\"\\n    SELECT song_id, songs.artist_id FROM songs\\n    JOIN artists ON songs.artist_id = artists.artist_id\\n    WHERE title='Deeply Disturbed' AND artist_name='Infected Mushroom' AND duration=506.51383;\\n\"\n",
      "cur.query = b\"\\n    SELECT song_id, songs.artist_id FROM songs\\n    JOIN artists ON songs.artist_id = artists.artist_id\\n    WHERE title='Rollerblades' AND artist_name='Eliza Doolittle' AND duration=184.60689;\\n\"\n",
      "cur.query = b\"\\n    SELECT song_id, songs.artist_id FROM songs\\n    JOIN artists ON songs.artist_id = artists.artist_id\\n    WHERE title='Ain''t No Party' AND artist_name='Alvin And The Chipmunks' AND duration=162.63791;\\n\"\n",
      "cur.query = b\"\\n    SELECT song_id, songs.artist_id FROM songs\\n    JOIN artists ON songs.artist_id = artists.artist_id\\n    WHERE title='You''re So Gangsta' AND artist_name='Chromeo' AND duration=348.65587;\\n\"\n",
      "cur.query = b\"\\n    SELECT song_id, songs.artist_id FROM songs\\n    JOIN artists ON songs.artist_id = artists.artist_id\\n    WHERE title='Brother' AND artist_name='Keisha White' AND duration=251.42812;\\n\"\n",
      "cur.query = b\"\\n    SELECT song_id, songs.artist_id FROM songs\\n    JOIN artists ON songs.artist_id = artists.artist_id\\n    WHERE title='Damelo' AND artist_name='Juanes' AND duration=247.37914;\\n\"\n",
      "cur.query = b\"\\n    SELECT song_id, songs.artist_id FROM songs\\n    JOIN artists ON songs.artist_id = artists.artist_id\\n    WHERE title='Umbra' AND artist_name='Karnivool' AND duration=470.80444;\\n\"\n",
      "cur.query = b\"\\n    SELECT song_id, songs.artist_id FROM songs\\n    JOIN artists ON songs.artist_id = artists.artist_id\\n    WHERE title='Alane' AND artist_name='WES' AND duration=221.57016;\\n\"\n",
      "cur.query = b\"\\n    SELECT song_id, songs.artist_id FROM songs\\n    JOIN artists ON songs.artist_id = artists.artist_id\\n    WHERE title='Epilogue' AND artist_name='Asia 2001' AND duration=150.30812;\\n\"\n",
      "cur.query = b\"\\n    SELECT song_id, songs.artist_id FROM songs\\n    JOIN artists ON songs.artist_id = artists.artist_id\\n    WHERE title='Nothing At All' AND artist_name='Spike Milligan' AND duration=220.39465;\\n\"\n",
      "cur.query = b\"\\n    SELECT song_id, songs.artist_id FROM songs\\n    JOIN artists ON songs.artist_id = artists.artist_id\\n    WHERE title='Carousel (PSILY Album Version)' AND artist_name='Laura Izibor' AND duration=211.56526;\\n\"\n",
      "cur.query = b\"\\n    SELECT song_id, songs.artist_id FROM songs\\n    JOIN artists ON songs.artist_id = artists.artist_id\\n    WHERE title='Wonderwall' AND artist_name='Ryan Adams' AND duration=248.5024;\\n\"\n",
      "cur.query = b\"\\n    SELECT song_id, songs.artist_id FROM songs\\n    JOIN artists ON songs.artist_id = artists.artist_id\\n    WHERE title='The Motto' AND artist_name='Method Man' AND duration=204.64281;\\n\"\n",
      "cur.query = b\"\\n    SELECT song_id, songs.artist_id FROM songs\\n    JOIN artists ON songs.artist_id = artists.artist_id\\n    WHERE title='I''m A Man Of Constant Sorrow' AND artist_name='The Stanley Brothers' AND duration=179.69587;\\n\"\n",
      "cur.query = b\"\\n    SELECT song_id, songs.artist_id FROM songs\\n    JOIN artists ON songs.artist_id = artists.artist_id\\n    WHERE title='Deeper' AND artist_name='Dexter Freebish' AND duration=210.54649;\\n\"\n",
      "cur.query = b\"\\n    SELECT song_id, songs.artist_id FROM songs\\n    JOIN artists ON songs.artist_id = artists.artist_id\\n    WHERE title='Talullah' AND artist_name='Jamiroquai' AND duration=362.05669;\\n\"\n",
      "cur.query = b\"\\n    SELECT song_id, songs.artist_id FROM songs\\n    JOIN artists ON songs.artist_id = artists.artist_id\\n    WHERE title='Anyone Else But You' AND artist_name='Michael Cera & Ellen Page' AND duration=116.71465;\\n\"\n",
      "cur.query = b\"\\n    SELECT song_id, songs.artist_id FROM songs\\n    JOIN artists ON songs.artist_id = artists.artist_id\\n    WHERE title='How To Explain' AND artist_name='The Cat Empire' AND duration=218.22649;\\n\"\n",
      "cur.query = b\"\\n    SELECT song_id, songs.artist_id FROM songs\\n    JOIN artists ON songs.artist_id = artists.artist_id\\n    WHERE title='Wotan''s Farewell & Magic Fire Music' AND artist_name='Bryn Terfel / Berliner Philharmoniker / Claudio Abbado' AND duration=967.36608;\\n\"\n",
      "cur.query = b\"\\n    SELECT song_id, songs.artist_id FROM songs\\n    JOIN artists ON songs.artist_id = artists.artist_id\\n    WHERE title='Ready Or Not' AND artist_name='The Fugees' AND duration=281.20771;\\n\"\n",
      "cur.query = b\"\\n    SELECT song_id, songs.artist_id FROM songs\\n    JOIN artists ON songs.artist_id = artists.artist_id\\n    WHERE title='Everything' AND artist_name='Hardline' AND duration=234.73587;\\n\"\n",
      "cur.query = b\"\\n    SELECT song_id, songs.artist_id FROM songs\\n    JOIN artists ON songs.artist_id = artists.artist_id\\n    WHERE title='Sail Into the Sun' AND artist_name='The Funky Lowlives' AND duration=280.34567;\\n\"\n",
      "cur.query = b\"\\n    SELECT song_id, songs.artist_id FROM songs\\n    JOIN artists ON songs.artist_id = artists.artist_id\\n    WHERE title='Proof' AND artist_name='DL Incognito' AND duration=221.07383;\\n\"\n",
      "cur.query = b\"\\n    SELECT song_id, songs.artist_id FROM songs\\n    JOIN artists ON songs.artist_id = artists.artist_id\\n    WHERE title='TTHHEE PPAARRTTYY' AND artist_name='Justice' AND duration=243.40853;\\n\"\n",
      "cur.query = b\"\\n    SELECT song_id, songs.artist_id FROM songs\\n    JOIN artists ON songs.artist_id = artists.artist_id\\n    WHERE title='Night Dreamin''' AND artist_name='Earth_ Wind & Fire' AND duration=178.20689;\\n\"\n",
      "cur.query = b\"\\n    SELECT song_id, songs.artist_id FROM songs\\n    JOIN artists ON songs.artist_id = artists.artist_id\\n    WHERE title='Sheep' AND artist_name='Strawbs' AND duration=255.81669;\\n\"\n",
      "cur.query = b\"\\n    SELECT song_id, songs.artist_id FROM songs\\n    JOIN artists ON songs.artist_id = artists.artist_id\\n    WHERE title='Wasted' AND artist_name='Angus & Julia Stone' AND duration=172.85179;\\n\"\n",
      "cur.query = b\"\\n    SELECT song_id, songs.artist_id FROM songs\\n    JOIN artists ON songs.artist_id = artists.artist_id\\n    WHERE title='Love Song' AND artist_name='Sara Bareilles' AND duration=260.8322;\\n\"\n",
      "cur.query = b\"\\n    SELECT song_id, songs.artist_id FROM songs\\n    JOIN artists ON songs.artist_id = artists.artist_id\\n    WHERE title='Meus Sonhos' AND artist_name='Bruna Caram' AND duration=198.63465;\\n\"\n",
      "cur.query = b\"\\n    SELECT song_id, songs.artist_id FROM songs\\n    JOIN artists ON songs.artist_id = artists.artist_id\\n    WHERE title='O Segundo Sol' AND artist_name='Nando Reis' AND duration=239.82975;\\n\"\n",
      "cur.query = b\"\\n    SELECT song_id, songs.artist_id FROM songs\\n    JOIN artists ON songs.artist_id = artists.artist_id\\n    WHERE title='Same Old Thing' AND artist_name='The Black Keys' AND duration=189.28281;\\n\"\n",
      "cur.query = b\"\\n    SELECT song_id, songs.artist_id FROM songs\\n    JOIN artists ON songs.artist_id = artists.artist_id\\n    WHERE title='Riot Of Violence' AND artist_name='Kreator' AND duration=294.53016;\\n\"\n",
      "cur.query = b\"\\n    SELECT song_id, songs.artist_id FROM songs\\n    JOIN artists ON songs.artist_id = artists.artist_id\\n    WHERE title='Show Me How To Live' AND artist_name='Audioslave' AND duration=277.83791;\\n\"\n",
      "cur.query = b\"\\n    SELECT song_id, songs.artist_id FROM songs\\n    JOIN artists ON songs.artist_id = artists.artist_id\\n    WHERE title='Parallel Universe (Album Version)' AND artist_name='Red Hot Chili Peppers' AND duration=269.34812;\\n\"\n",
      "cur.query = b\"\\n    SELECT song_id, songs.artist_id FROM songs\\n    JOIN artists ON songs.artist_id = artists.artist_id\\n    WHERE title='Me Quedo Contigo [Si Me Das A Elegir]' AND artist_name='Manu Chao' AND duration=288.15628;\\n\"\n",
      "cur.query = b\"\\n    SELECT song_id, songs.artist_id FROM songs\\n    JOIN artists ON songs.artist_id = artists.artist_id\\n    WHERE title='Horn Concerto No. 4 in E flat K495: II. Romance (Andante cantabile)' AND artist_name='Barry Tuckwell/Academy of St Martin-in-the-Fields/Sir Neville Marriner' AND duration=277.15873;\\n\"\n",
      "cur.query = b\"\\n    SELECT song_id, songs.artist_id FROM songs\\n    JOIN artists ON songs.artist_id = artists.artist_id\\n    WHERE title='I CAN''T GET STARTED' AND artist_name='Ron Carter' AND duration=497.13587;\\n\"\n",
      "cur.query = b\"\\n    SELECT song_id, songs.artist_id FROM songs\\n    JOIN artists ON songs.artist_id = artists.artist_id\\n    WHERE title='You And Me (Wedding Version)' AND artist_name='Lifehouse' AND duration=195.47383;\\n\"\n",
      "cur.query = b\"\\n    SELECT song_id, songs.artist_id FROM songs\\n    JOIN artists ON songs.artist_id = artists.artist_id\\n    WHERE title='La Valse D''Am\\xc3\\x83\\xc2\\x83\\xc3\\x82\\xc2\\xa9lie (Version Piano)' AND artist_name='Yann Tiersen' AND duration=158.71955;\\n\"\n",
      "cur.query = b\"\\n    SELECT song_id, songs.artist_id FROM songs\\n    JOIN artists ON songs.artist_id = artists.artist_id\\n    WHERE title='Awesome Medley' AND artist_name='ISRAEL & NEW BREED' AND duration=176.48281;\\n\"\n",
      "cur.query = b\"\\n    SELECT song_id, songs.artist_id FROM songs\\n    JOIN artists ON songs.artist_id = artists.artist_id\\n    WHERE title='Jesus Loves You (Album Version)' AND artist_name='Stellar Kart' AND duration=186.17424;\\n\"\n"
     ]
    }
   ],
   "source": [
    "df['ts'] = pd.to_datetime(df['ts'])\n",
    "\n",
    "for index, row in df.iterrows():\n",
    "\n",
    "    # get songid and artistid from song and artist tables\n",
    "    cur.execute(song_select, (row.song, row.artist, row.length))\n",
    "    \n",
    "    results = cur.fetchone()\n",
    "\n",
    "    if results:\n",
    "        songid, artistid = results\n",
    "    else:\n",
    "        songid, artistid = None, None\n",
    "\n",
    "    # insert songplay record\n",
    "    songplay_data = (\n",
    "        index,\n",
    "        row['ts'],\n",
    "        row['userId'],\n",
    "        row['level'],\n",
    "        songid,\n",
    "        artistid,\n",
    "        row['sessionId'],\n",
    "        row['location'],\n",
    "        row['userAgent']\n",
    "    )\n",
    "    cur.execute(songplay_table_insert, songplay_data)\n",
    "    conn.commit()"
   ]
  },
  {
   "cell_type": "markdown",
   "metadata": {},
   "source": [
    "Run `test.ipynb` to see if you've successfully added records to this table."
   ]
  },
  {
   "cell_type": "markdown",
   "metadata": {},
   "source": [
    "# Close Connection to Sparkify Database"
   ]
  },
  {
   "cell_type": "code",
   "execution_count": 26,
   "metadata": {},
   "outputs": [],
   "source": [
    "conn.close()"
   ]
  },
  {
   "cell_type": "markdown",
   "metadata": {},
   "source": [
    "# Implement `etl.py`\n",
    "Use what you've completed in this notebook to implement `etl.py`."
   ]
  },
  {
   "cell_type": "code",
   "execution_count": null,
   "metadata": {},
   "outputs": [],
   "source": []
  }
 ],
 "metadata": {
  "kernelspec": {
   "display_name": "Python 3.10.0 64-bit ('udacity_de')",
   "language": "python",
   "name": "python3"
  },
  "language_info": {
   "codemirror_mode": {
    "name": "ipython",
    "version": 3
   },
   "file_extension": ".py",
   "mimetype": "text/x-python",
   "name": "python",
   "nbconvert_exporter": "python",
   "pygments_lexer": "ipython3",
   "version": "3.10.0"
  },
  "vscode": {
   "interpreter": {
    "hash": "cc80c5e4656aa830ab95940181262f0ccffd85a64115a6022a0c699c68282763"
   }
  }
 },
 "nbformat": 4,
 "nbformat_minor": 2
}
